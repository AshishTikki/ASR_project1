{
 "cells": [
  {
   "cell_type": "code",
   "execution_count": 7,
   "metadata": {},
   "outputs": [],
   "source": [
    "import pandas as pd\n",
    "import numpy\n",
    "import h5py\n",
    "import csv\n",
    "\n",
    "hdf=pd.HDFStore('timit_train.hdf',mode='r')"
   ]
  },
  {
   "cell_type": "code",
   "execution_count": 8,
   "metadata": {},
   "outputs": [
    {
     "data": {
      "text/plain": [
       "['/timit']"
      ]
     },
     "execution_count": 8,
     "metadata": {},
     "output_type": "execute_result"
    }
   ],
   "source": [
    "hdf.keys()"
   ]
  },
  {
   "cell_type": "code",
   "execution_count": 9,
   "metadata": {},
   "outputs": [],
   "source": [
    "df1 = hdf.get('/timit')"
   ]
  },
  {
   "cell_type": "code",
   "execution_count": 10,
   "metadata": {},
   "outputs": [
    {
     "data": {
      "text/html": [
       "<div>\n",
       "<style scoped>\n",
       "    .dataframe tbody tr th:only-of-type {\n",
       "        vertical-align: middle;\n",
       "    }\n",
       "\n",
       "    .dataframe tbody tr th {\n",
       "        vertical-align: top;\n",
       "    }\n",
       "\n",
       "    .dataframe thead th {\n",
       "        text-align: right;\n",
       "    }\n",
       "</style>\n",
       "<table border=\"1\" class=\"dataframe\">\n",
       "  <thead>\n",
       "    <tr style=\"text-align: right;\">\n",
       "      <th></th>\n",
       "      <th>features</th>\n",
       "      <th>labels</th>\n",
       "    </tr>\n",
       "  </thead>\n",
       "  <tbody>\n",
       "    <tr>\n",
       "      <th>0</th>\n",
       "      <td>[7.157660529204184, -35.3356264649015, -6.1557...</td>\n",
       "      <td>sil</td>\n",
       "    </tr>\n",
       "    <tr>\n",
       "      <th>1</th>\n",
       "      <td>[6.694226896872617, -31.292391724339403, -4.88...</td>\n",
       "      <td>sil</td>\n",
       "    </tr>\n",
       "    <tr>\n",
       "      <th>2</th>\n",
       "      <td>[6.623171085695954, -29.11253881469235, -5.265...</td>\n",
       "      <td>sil</td>\n",
       "    </tr>\n",
       "    <tr>\n",
       "      <th>3</th>\n",
       "      <td>[6.724085779981514, -28.23018910548072, -4.907...</td>\n",
       "      <td>sil</td>\n",
       "    </tr>\n",
       "    <tr>\n",
       "      <th>4</th>\n",
       "      <td>[6.845424562391163, -28.736132288253437, -6.82...</td>\n",
       "      <td>sil</td>\n",
       "    </tr>\n",
       "  </tbody>\n",
       "</table>\n",
       "</div>"
      ],
      "text/plain": [
       "                                            features labels\n",
       "0  [7.157660529204184, -35.3356264649015, -6.1557...    sil\n",
       "1  [6.694226896872617, -31.292391724339403, -4.88...    sil\n",
       "2  [6.623171085695954, -29.11253881469235, -5.265...    sil\n",
       "3  [6.724085779981514, -28.23018910548072, -4.907...    sil\n",
       "4  [6.845424562391163, -28.736132288253437, -6.82...    sil"
      ]
     },
     "execution_count": 10,
     "metadata": {},
     "output_type": "execute_result"
    }
   ],
   "source": [
    "df1.head()"
   ]
  },
  {
   "cell_type": "code",
   "execution_count": 11,
   "metadata": {},
   "outputs": [
    {
     "data": {
      "text/plain": [
       "sil    207051\n",
       "ih      84082\n",
       "n       67327\n",
       "l       60397\n",
       "s       55543\n",
       "iy      52096\n",
       "r       51174\n",
       "er      47657\n",
       "ah      39071\n",
       "k       37382\n",
       "t       35051\n",
       "m       32820\n",
       "d       32575\n",
       "aa      31440\n",
       "        31047\n",
       "z       28804\n",
       "w       26248\n",
       "dh      21745\n",
       "ae      20984\n",
       "eh      20609\n",
       "hh      20103\n",
       "b       19302\n",
       "dx      19008\n",
       "p       18661\n",
       "f       17063\n",
       "uw      16135\n",
       "ay      15634\n",
       "ey      14811\n",
       "sh      14774\n",
       "v       14714\n",
       "g       13894\n",
       "y       12781\n",
       "ow      12437\n",
       "jh      10187\n",
       "ng       9805\n",
       "ch       7426\n",
       "th       5495\n",
       "aw       4318\n",
       "oy       3980\n",
       "uh       2912\n",
       "Name: labels, dtype: int64"
      ]
     },
     "execution_count": 11,
     "metadata": {},
     "output_type": "execute_result"
    }
   ],
   "source": [
    "df1['labels'].value_counts()"
   ]
  },
  {
   "cell_type": "code",
   "execution_count": null,
   "metadata": {},
   "outputs": [
    {
     "name": "stdout",
     "output_type": "stream",
     "text": [
      "['sil' 'w' 'ih' 's' 'ah' 'ch' 'n' 'ae' 't' 'v' 'r' 'f' 'y' 'uw' 'sh' 'l'\n",
      " 'b' 'iy' 'd' 'ow' 'm' 'dx' 'k' 'eh' 'aa' 'g' 'dh' 'er' 'jh' 'z' 'ay' ''\n",
      " 'p' 'ey' 'ng' 'aw' 'hh' 'oy' 'uh' 'th']\n"
     ]
    }
   ],
   "source": [
    "df1.loc[df1['labels']=='uh']\n",
    "df1.keys()\n",
    "a = df1[\"labels\"].unique()\n",
    "print(a)\n",
    "for i in a:\n",
    "    work = []\n",
    "    for j in df1.loc[df1['labels']==i][\"features\"]:\n",
    "        work.append(j)\n",
    "    \n",
    "    fileName = i + \".csv\"\n",
    "    with open(fileName, \"w\") as f:\n",
    "        writer = csv.writer(f)\n",
    "        writer.writerows(work)\n",
    "    f.close()\n",
    "work=[]\n",
    "for i in df1.loc[df1[\"labels\"]==\"\"][\"features\"]:\n",
    "    work.append(i)\n",
    "\n",
    "fileName = \"nan.csv\"\n",
    "with open(fileName, \"w\") as f:\n",
    "    writer = csv.writer(f)\n",
    "    writer.writerows(work)\n",
    "f.close()  "
   ]
  },
  {
   "cell_type": "code",
   "execution_count": null,
   "metadata": {},
   "outputs": [],
   "source": []
  }
 ],
 "metadata": {
  "kernelspec": {
   "display_name": "Python 3",
   "language": "python",
   "name": "python3"
  },
  "language_info": {
   "codemirror_mode": {
    "name": "ipython",
    "version": 3
   },
   "file_extension": ".py",
   "mimetype": "text/x-python",
   "name": "python",
   "nbconvert_exporter": "python",
   "pygments_lexer": "ipython3",
   "version": "3.7.0"
  }
 },
 "nbformat": 4,
 "nbformat_minor": 2
}
